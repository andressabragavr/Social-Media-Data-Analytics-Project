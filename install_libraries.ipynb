{
 "cells": [
  {
   "cell_type": "markdown",
   "metadata": {},
   "source": [
    "# Install the necessary libraries for the project\n",
    "Please note that the correct cell will depend on the Kernel being used."
   ]
  },
  {
   "cell_type": "code",
   "execution_count": null,
   "metadata": {
    "vscode": {
     "languageId": "plaintext"
    }
   },
   "outputs": [],
   "source": [
    "pip install praw\n",
    "pip install nltk\n",
    "pip install emoji\n",
    "pip install pandas\n",
    "pip install wordcloud\n",
    "pip install torch"
   ]
  },
  {
   "cell_type": "code",
   "execution_count": null,
   "metadata": {
    "vscode": {
     "languageId": "plaintext"
    }
   },
   "outputs": [],
   "source": [
    "%pip install praw\n",
    "%pip install nltk\n",
    "%pip install emoji\n",
    "%pip install pandas\n",
    "%pip install wordcloud\n",
    "%pip install torch"
   ]
  },
  {
   "cell_type": "code",
   "execution_count": null,
   "metadata": {
    "vscode": {
     "languageId": "plaintext"
    }
   },
   "outputs": [],
   "source": [
    "!pip install praw\n",
    "!pip install nltk\n",
    "!pip install emoji\n",
    "!pip install pandas\n",
    "!pip install wordcloud\n",
    "!pip install torch"
   ]
  }
 ],
 "metadata": {
  "language_info": {
   "name": "python"
  }
 },
 "nbformat": 4,
 "nbformat_minor": 2
}
