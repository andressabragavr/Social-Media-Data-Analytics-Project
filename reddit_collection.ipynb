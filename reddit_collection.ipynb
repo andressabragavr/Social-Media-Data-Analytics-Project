{
 "cells": [
  {
   "cell_type": "markdown",
   "metadata": {},
   "source": [
    "# Install Necessary Libraries"
   ]
  },
  {
   "cell_type": "code",
   "execution_count": 1,
   "metadata": {},
   "outputs": [
    {
     "name": "stdout",
     "output_type": "stream",
     "text": [
      "Defaulting to user installation because normal site-packages is not writeable\n",
      "Requirement already satisfied: praw in c:\\users\\thega\\appdata\\local\\packages\\pythonsoftwarefoundation.python.3.12_qbz5n2kfra8p0\\localcache\\local-packages\\python312\\site-packages (7.8.1)\n",
      "Requirement already satisfied: prawcore<3,>=2.4 in c:\\users\\thega\\appdata\\local\\packages\\pythonsoftwarefoundation.python.3.12_qbz5n2kfra8p0\\localcache\\local-packages\\python312\\site-packages (from praw) (2.4.0)\n",
      "Requirement already satisfied: update_checker>=0.18 in c:\\users\\thega\\appdata\\local\\packages\\pythonsoftwarefoundation.python.3.12_qbz5n2kfra8p0\\localcache\\local-packages\\python312\\site-packages (from praw) (0.18.0)\n",
      "Requirement already satisfied: websocket-client>=0.54.0 in c:\\users\\thega\\appdata\\local\\packages\\pythonsoftwarefoundation.python.3.12_qbz5n2kfra8p0\\localcache\\local-packages\\python312\\site-packages (from praw) (1.8.0)\n",
      "Requirement already satisfied: requests<3.0,>=2.6.0 in c:\\users\\thega\\appdata\\local\\packages\\pythonsoftwarefoundation.python.3.12_qbz5n2kfra8p0\\localcache\\local-packages\\python312\\site-packages (from prawcore<3,>=2.4->praw) (2.32.3)\n",
      "Requirement already satisfied: charset-normalizer<4,>=2 in c:\\users\\thega\\appdata\\local\\packages\\pythonsoftwarefoundation.python.3.12_qbz5n2kfra8p0\\localcache\\local-packages\\python312\\site-packages (from requests<3.0,>=2.6.0->prawcore<3,>=2.4->praw) (3.4.0)\n",
      "Requirement already satisfied: idna<4,>=2.5 in c:\\users\\thega\\appdata\\local\\packages\\pythonsoftwarefoundation.python.3.12_qbz5n2kfra8p0\\localcache\\local-packages\\python312\\site-packages (from requests<3.0,>=2.6.0->prawcore<3,>=2.4->praw) (3.10)\n",
      "Requirement already satisfied: urllib3<3,>=1.21.1 in c:\\users\\thega\\appdata\\local\\packages\\pythonsoftwarefoundation.python.3.12_qbz5n2kfra8p0\\localcache\\local-packages\\python312\\site-packages (from requests<3.0,>=2.6.0->prawcore<3,>=2.4->praw) (2.2.3)\n",
      "Requirement already satisfied: certifi>=2017.4.17 in c:\\users\\thega\\appdata\\local\\packages\\pythonsoftwarefoundation.python.3.12_qbz5n2kfra8p0\\localcache\\local-packages\\python312\\site-packages (from requests<3.0,>=2.6.0->prawcore<3,>=2.4->praw) (2024.8.30)\n",
      "Note: you may need to restart the kernel to use updated packages.\n"
     ]
    }
   ],
   "source": [
    "%pip install praw"
   ]
  },
  {
   "cell_type": "code",
   "execution_count": 3,
   "metadata": {},
   "outputs": [
    {
     "name": "stderr",
     "output_type": "stream",
     "text": [
      "\n",
      "[notice] A new release of pip is available: 23.2.1 -> 24.3.1\n",
      "[notice] To update, run: python.exe -m pip install --upgrade pip\n"
     ]
    },
    {
     "name": "stdout",
     "output_type": "stream",
     "text": [
      "Collecting pandas\n",
      "  Obtaining dependency information for pandas from https://files.pythonhosted.org/packages/ed/8c/87ddf1fcb55d11f9f847e3c69bb1c6f8e46e2f40ab1a2d2abadb2401b007/pandas-2.2.3-cp311-cp311-win_amd64.whl.metadata\n",
      "  Downloading pandas-2.2.3-cp311-cp311-win_amd64.whl.metadata (19 kB)\n",
      "Requirement already satisfied: numpy>=1.23.2 in c:\\python311\\lib\\site-packages (from pandas) (1.26.4)\n",
      "Requirement already satisfied: python-dateutil>=2.8.2 in c:\\users\\andre\\appdata\\roaming\\python\\python311\\site-packages (from pandas) (2.9.0.post0)\n",
      "Collecting pytz>=2020.1 (from pandas)\n",
      "  Obtaining dependency information for pytz>=2020.1 from https://files.pythonhosted.org/packages/11/c3/005fcca25ce078d2cc29fd559379817424e94885510568bc1bc53d7d5846/pytz-2024.2-py2.py3-none-any.whl.metadata\n",
      "  Downloading pytz-2024.2-py2.py3-none-any.whl.metadata (22 kB)\n",
      "Collecting tzdata>=2022.7 (from pandas)\n",
      "  Obtaining dependency information for tzdata>=2022.7 from https://files.pythonhosted.org/packages/a6/ab/7e5f53c3b9d14972843a647d8d7a853969a58aecc7559cb3267302c94774/tzdata-2024.2-py2.py3-none-any.whl.metadata\n",
      "  Downloading tzdata-2024.2-py2.py3-none-any.whl.metadata (1.4 kB)\n",
      "Requirement already satisfied: six>=1.5 in c:\\users\\andre\\appdata\\roaming\\python\\python311\\site-packages (from python-dateutil>=2.8.2->pandas) (1.16.0)\n",
      "Downloading pandas-2.2.3-cp311-cp311-win_amd64.whl (11.6 MB)\n",
      "   ---------------------------------------- 0.0/11.6 MB ? eta -:--:--\n",
      "   ---------------------------------------- 0.1/11.6 MB 4.2 MB/s eta 0:00:03\n",
      "   --- ------------------------------------ 1.0/11.6 MB 12.1 MB/s eta 0:00:01\n",
      "   ---- ----------------------------------- 1.4/11.6 MB 12.8 MB/s eta 0:00:01\n",
      "   -------- ------------------------------- 2.4/11.6 MB 13.8 MB/s eta 0:00:01\n",
      "   ----------- ---------------------------- 3.3/11.6 MB 15.0 MB/s eta 0:00:01\n",
      "   -------------- ------------------------- 4.2/11.6 MB 15.9 MB/s eta 0:00:01\n",
      "   ------------------ --------------------- 5.4/11.6 MB 17.3 MB/s eta 0:00:01\n",
      "   --------------------- ------------------ 6.3/11.6 MB 17.5 MB/s eta 0:00:01\n",
      "   ------------------------- -------------- 7.3/11.6 MB 17.9 MB/s eta 0:00:01\n",
      "   ---------------------------- ----------- 8.2/11.6 MB 18.6 MB/s eta 0:00:01\n",
      "   -------------------------------- ------- 9.4/11.6 MB 18.8 MB/s eta 0:00:01\n",
      "   ----------------------------------- ---- 10.4/11.6 MB 20.5 MB/s eta 0:00:01\n",
      "   ---------------------------------------  11.4/11.6 MB 21.1 MB/s eta 0:00:01\n",
      "   ---------------------------------------  11.6/11.6 MB 21.1 MB/s eta 0:00:01\n",
      "   ---------------------------------------- 11.6/11.6 MB 19.3 MB/s eta 0:00:00\n",
      "Downloading pytz-2024.2-py2.py3-none-any.whl (508 kB)\n",
      "   ---------------------------------------- 0.0/508.0 kB ? eta -:--:--\n",
      "   --------------------------------------- 508.0/508.0 kB 16.1 MB/s eta 0:00:00\n",
      "Downloading tzdata-2024.2-py2.py3-none-any.whl (346 kB)\n",
      "   ---------------------------------------- 0.0/346.6 kB ? eta -:--:--\n",
      "   --------------------------------------- 346.6/346.6 kB 22.4 MB/s eta 0:00:00\n",
      "Installing collected packages: pytz, tzdata, pandas\n",
      "Successfully installed pandas-2.2.3 pytz-2024.2 tzdata-2024.2\n"
     ]
    }
   ],
   "source": [
    "!pip install pandas"
   ]
  },
  {
   "cell_type": "markdown",
   "metadata": {},
   "source": [
    "# Collect Reddit Posts From the HogwartsLegacyGaming Subreddit"
   ]
  },
  {
   "cell_type": "code",
   "execution_count": null,
   "metadata": {},
   "outputs": [
    {
     "name": "stdout",
     "output_type": "stream",
     "text": [
      "Fetching all-time top posts from r/HogwartsLegacyGaming...\n",
      "Saved 1000 all-time posts to 'hogwarts_legacy_gaming_alltime_posts.csv'.\n"
     ]
    },
    {
     "ename": "",
     "evalue": "",
     "output_type": "error",
     "traceback": [
      "\u001b[1;31mThe Kernel crashed while executing code in the current cell or a previous cell. \n",
      "\u001b[1;31mPlease review the code in the cell(s) to identify a possible cause of the failure. \n",
      "\u001b[1;31mClick <a href='https://aka.ms/vscodeJupyterKernelCrash'>here</a> for more info. \n",
      "\u001b[1;31mView Jupyter <a href='command:jupyter.viewOutput'>log</a> for further details."
     ]
    }
   ],
   "source": [
    "import praw\n",
    "import pandas as pd\n",
    "from datetime import datetime\n",
    "\n",
    "# Reddit API credentials\n",
    "client_id = \"fZfKbf8qOhJuhI2_lqMkSg\"  # Reddit app's Client ID\n",
    "client_secret = \"xpoP9roLFw481QQBl7OuwCGhAKyXeg\"  # Reddit app's Client Secret\n",
    "user_agent = \"HogwartsLegacyAnalysis/1.0 by /u/ljerar\"  # Custom User Agent\n",
    "\n",
    "# Initialize Reddit API\n",
    "reddit = praw.Reddit(\n",
    "    client_id=client_id,\n",
    "    client_secret=client_secret,\n",
    "    user_agent=user_agent\n",
    ")\n",
    "\n",
    "# Parameters for filtering\n",
    "subreddit_name = \"HogwartsLegacyGaming\"  # Target subreddit\n",
    "output_file = \"hogwarts_legacy_gaming_alltime_posts.csv\"\n",
    "\n",
    "# Function to fetch all-time posts from a specific subreddit\n",
    "def fetch_reddit_posts_all_time(subreddit_name, limit=1000):\n",
    "    subreddit = reddit.subreddit(subreddit_name)  # Target specific subreddit\n",
    "    posts = []\n",
    "    \n",
    "    print(f\"Fetching all-time top posts from r/{subreddit_name}...\")\n",
    "\n",
    "    for post in subreddit.top(time_filter=\"all\", limit=limit):  # Get top posts from all time\n",
    "        post_date = datetime.fromtimestamp(post.created_utc)  # Convert creation time to datetime\n",
    "        \n",
    "        posts.append({\n",
    "            \"Title\": post.title,\n",
    "            \"Score\": post.score,\n",
    "            \"Comments\": post.num_comments,\n",
    "            \"URL\": post.url,\n",
    "            \"Date\": post_date.strftime(\"%Y-%m-%d %H:%M:%S\"),\n",
    "            \"Subreddit\": post.subreddit.display_name\n",
    "        })\n",
    "\n",
    "    return posts\n",
    "\n",
    "# Fetch posts\n",
    "try:\n",
    "    posts_data = fetch_reddit_posts_all_time(subreddit_name)\n",
    "\n",
    "    # Save posts to a CSV file\n",
    "    if posts_data:\n",
    "        df = pd.DataFrame(posts_data)\n",
    "        df.to_csv(output_file, index=False)\n",
    "        print(f\"Saved {len(posts_data)} all-time posts to '{output_file}'.\")\n",
    "    else:\n",
    "        print(\"No posts found for the specified criteria.\")\n",
    "except Exception as e:\n",
    "    print(f\"An error occurred while fetching posts: {e}\")\n"
   ]
  }
 ],
 "metadata": {
  "kernelspec": {
   "display_name": "Python 3",
   "language": "python",
   "name": "python3"
  },
  "language_info": {
   "codemirror_mode": {
    "name": "ipython",
    "version": 3
   },
   "file_extension": ".py",
   "mimetype": "text/x-python",
   "name": "python",
   "nbconvert_exporter": "python",
   "pygments_lexer": "ipython3",
   "version": "3.12.7"
  }
 },
 "nbformat": 4,
 "nbformat_minor": 2
}
