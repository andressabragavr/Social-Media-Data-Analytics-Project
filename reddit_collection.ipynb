{
 "cells": [
  {
   "cell_type": "markdown",
   "metadata": {},
   "source": [
    "# Install Necessary Libraries"
   ]
  },
  {
   "cell_type": "code",
   "execution_count": null,
   "metadata": {},
   "outputs": [],
   "source": [
    "%pip install praw pandas"
   ]
  },
  {
   "cell_type": "code",
   "execution_count": null,
   "metadata": {},
   "outputs": [],
   "source": [
    "!pip install praw pandas"
   ]
  },
  {
   "cell_type": "markdown",
   "metadata": {},
   "source": [
    "# Collect Reddit Posts From the HogwartsLegacyGaming Subreddit"
   ]
  },
  {
   "cell_type": "code",
   "execution_count": null,
   "metadata": {},
   "outputs": [
    {
     "name": "stdout",
     "output_type": "stream",
     "text": [
      "Fetching all-time top posts from r/HogwartsLegacyGaming...\n",
      "Saved 1000 all-time posts to 'hogwarts_legacy_gaming_alltime_posts.csv'.\n"
     ]
    },
    {
     "ename": "",
     "evalue": "",
     "output_type": "error",
     "traceback": [
      "\u001b[1;31mThe Kernel crashed while executing code in the current cell or a previous cell. \n",
      "\u001b[1;31mPlease review the code in the cell(s) to identify a possible cause of the failure. \n",
      "\u001b[1;31mClick <a href='https://aka.ms/vscodeJupyterKernelCrash'>here</a> for more info. \n",
      "\u001b[1;31mView Jupyter <a href='command:jupyter.viewOutput'>log</a> for further details."
     ]
    }
   ],
   "source": [
    "import praw\n",
    "import pandas as pd\n",
    "from datetime import datetime\n",
    "\n",
    "# Reddit API credentials\n",
    "client_id = \"fZfKbf8qOhJuhI2_lqMkSg\"  # Reddit app's Client ID\n",
    "client_secret = \"xpoP9roLFw481QQBl7OuwCGhAKyXeg\"  # Reddit app's Client Secret\n",
    "user_agent = \"HogwartsLegacyAnalysis/1.0 by /u/ljerar\"  # Custom User Agent\n",
    "\n",
    "# Initialize Reddit API\n",
    "reddit = praw.Reddit(\n",
    "    client_id=client_id,\n",
    "    client_secret=client_secret,\n",
    "    user_agent=user_agent\n",
    ")\n",
    "\n",
    "# Parameters for filtering\n",
    "subreddit_name = \"HogwartsLegacyGaming\"  # Target subreddit\n",
    "output_file = \"hogwarts_legacy_gaming_alltime_posts.csv\"\n",
    "\n",
    "# Function to fetch all-time posts from a specific subreddit\n",
    "def fetch_reddit_posts_all_time(subreddit_name, limit=1000):\n",
    "    subreddit = reddit.subreddit(subreddit_name)  # Target specific subreddit\n",
    "    posts = []\n",
    "    \n",
    "    print(f\"Fetching all-time top posts from r/{subreddit_name}...\")\n",
    "\n",
    "    for post in subreddit.top(time_filter=\"all\", limit=limit):  # Get top posts from all time\n",
    "        post_date = datetime.fromtimestamp(post.created_utc)  # Convert creation time to datetime\n",
    "        \n",
    "        posts.append({\n",
    "            \"Title\": post.title,\n",
    "            \"Score\": post.score,\n",
    "            \"Comments\": post.num_comments,\n",
    "            \"URL\": post.url,\n",
    "            \"Date\": post_date.strftime(\"%Y-%m-%d %H:%M:%S\"),\n",
    "            \"Subreddit\": post.subreddit.display_name\n",
    "        })\n",
    "\n",
    "    return posts\n",
    "\n",
    "# Fetch posts\n",
    "try:\n",
    "    posts_data = fetch_reddit_posts_all_time(subreddit_name)\n",
    "\n",
    "    # Save posts to a CSV file\n",
    "    if posts_data:\n",
    "        df = pd.DataFrame(posts_data)\n",
    "        df.to_csv(output_file, index=False)\n",
    "        print(f\"Saved {len(posts_data)} all-time posts to '{output_file}'.\")\n",
    "    else:\n",
    "        print(\"No posts found for the specified criteria.\")\n",
    "except Exception as e:\n",
    "    print(f\"An error occurred while fetching posts: {e}\")\n"
   ]
  }
 ],
 "metadata": {
  "kernelspec": {
   "display_name": "Python 3",
   "language": "python",
   "name": "python3"
  },
  "language_info": {
   "codemirror_mode": {
    "name": "ipython",
    "version": 3
   },
   "file_extension": ".py",
   "mimetype": "text/x-python",
   "name": "python",
   "nbconvert_exporter": "python",
   "pygments_lexer": "ipython3",
   "version": "3.12.8"
  }
 },
 "nbformat": 4,
 "nbformat_minor": 2
}
