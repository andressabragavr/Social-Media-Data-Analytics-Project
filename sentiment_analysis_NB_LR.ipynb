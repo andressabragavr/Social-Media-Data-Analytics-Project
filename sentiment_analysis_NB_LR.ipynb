{
 "cells": [
  {
   "cell_type": "markdown",
   "metadata": {},
   "source": [
    "# Sentiment Analysis Using Naive Bayes and Logistic Regression with Vader Data"
   ]
  },
  {
   "cell_type": "code",
   "execution_count": 2,
   "metadata": {},
   "outputs": [
    {
     "name": "stdout",
     "output_type": "stream",
     "text": [
      "Columns in the DataFrame: ['cleaned_title', 'Sentiment']\n",
      "\n",
      "Missing Values in 'cleaned_title': 35\n",
      "\n",
      "Naive Bayes Results:\n",
      "Accuracy: 0.6550\n",
      "Classification Report (Naive Bayes):\n",
      "              precision    recall  f1-score   support\n",
      "\n",
      "          -1       0.00      0.00      0.00        33\n",
      "           0       0.62      0.95      0.75       108\n",
      "           1       0.80      0.47      0.60        59\n",
      "\n",
      "    accuracy                           0.66       200\n",
      "   macro avg       0.47      0.48      0.45       200\n",
      "weighted avg       0.57      0.66      0.58       200\n",
      "\n",
      "Confusion Matrix (Naive Bayes):\n",
      "[[  0  31   2]\n",
      " [  0 103   5]\n",
      " [  0  31  28]]\n",
      "\n",
      "Logistic Regression Results:\n",
      "Accuracy: 0.6700\n",
      "Classification Report (Logistic Regression):\n",
      "              precision    recall  f1-score   support\n",
      "\n",
      "          -1       1.00      0.06      0.11        33\n",
      "           0       0.64      0.95      0.76       108\n",
      "           1       0.81      0.49      0.61        59\n",
      "\n",
      "    accuracy                           0.67       200\n",
      "   macro avg       0.81      0.50      0.50       200\n",
      "weighted avg       0.75      0.67      0.61       200\n",
      "\n",
      "Confusion Matrix (Logistic Regression):\n",
      "[[  2  29   2]\n",
      " [  0 103   5]\n",
      " [  0  30  29]]\n",
      "\n",
      "SVM Results:\n",
      "Accuracy: 0.7700\n",
      "Classification Report (SVM):\n",
      "              precision    recall  f1-score   support\n",
      "\n",
      "          -1       0.80      0.36      0.50        33\n",
      "           0       0.74      0.92      0.82       108\n",
      "           1       0.83      0.73      0.77        59\n",
      "\n",
      "    accuracy                           0.77       200\n",
      "   macro avg       0.79      0.67      0.70       200\n",
      "weighted avg       0.78      0.77      0.75       200\n",
      "\n",
      "Confusion Matrix (SVM):\n",
      "[[12 19  2]\n",
      " [ 2 99  7]\n",
      " [ 1 15 43]]\n"
     ]
    },
    {
     "name": "stderr",
     "output_type": "stream",
     "text": [
      "C:\\Users\\thega\\AppData\\Local\\Packages\\PythonSoftwareFoundation.Python.3.12_qbz5n2kfra8p0\\LocalCache\\local-packages\\Python312\\site-packages\\sklearn\\metrics\\_classification.py:1531: UndefinedMetricWarning: Precision is ill-defined and being set to 0.0 in labels with no predicted samples. Use `zero_division` parameter to control this behavior.\n",
      "  _warn_prf(average, modifier, f\"{metric.capitalize()} is\", len(result))\n",
      "C:\\Users\\thega\\AppData\\Local\\Packages\\PythonSoftwareFoundation.Python.3.12_qbz5n2kfra8p0\\LocalCache\\local-packages\\Python312\\site-packages\\sklearn\\metrics\\_classification.py:1531: UndefinedMetricWarning: Precision is ill-defined and being set to 0.0 in labels with no predicted samples. Use `zero_division` parameter to control this behavior.\n",
      "  _warn_prf(average, modifier, f\"{metric.capitalize()} is\", len(result))\n",
      "C:\\Users\\thega\\AppData\\Local\\Packages\\PythonSoftwareFoundation.Python.3.12_qbz5n2kfra8p0\\LocalCache\\local-packages\\Python312\\site-packages\\sklearn\\metrics\\_classification.py:1531: UndefinedMetricWarning: Precision is ill-defined and being set to 0.0 in labels with no predicted samples. Use `zero_division` parameter to control this behavior.\n",
      "  _warn_prf(average, modifier, f\"{metric.capitalize()} is\", len(result))\n"
     ]
    }
   ],
   "source": [
    "import pandas as pd\n",
    "from sklearn.feature_extraction.text import TfidfVectorizer\n",
    "from sklearn.model_selection import train_test_split\n",
    "from sklearn.naive_bayes import MultinomialNB\n",
    "from sklearn.linear_model import LogisticRegression\n",
    "from sklearn.svm import LinearSVC\n",
    "from sklearn.metrics import accuracy_score, classification_report, confusion_matrix\n",
    "\n",
    "# Load the Vader sentiment data\n",
    "df = pd.read_csv(\"hogwarts_vader_sentiments.csv\")\n",
    "\n",
    "# Verify the columns\n",
    "print(\"Columns in the DataFrame:\", df.columns.tolist())\n",
    "\n",
    "# Check for missing values in 'cleaned_title'\n",
    "print(\"\\nMissing Values in 'cleaned_title':\", df['cleaned_title'].isnull().sum())\n",
    "\n",
    "# Handle missing values in 'cleaned_title' by replacing NaN with an empty string\n",
    "df['cleaned_title'] = df['cleaned_title'].fillna(\"\")\n",
    "\n",
    "# Prepare features and target\n",
    "X = df['cleaned_title']  # Features (text data)\n",
    "y = df['Sentiment'].map({\"Positive\": 1, \"Negative\": -1, \"Neutral\": 0})  # Target labels\n",
    "\n",
    "# Split data into training and testing sets\n",
    "X_train, X_test, y_train, y_test = train_test_split(X, y, test_size=0.2, random_state=42)\n",
    "\n",
    "# TF-IDF Vectorization\n",
    "tfidf_vectorizer = TfidfVectorizer(max_features=5000)\n",
    "X_train_tfidf = tfidf_vectorizer.fit_transform(X_train)\n",
    "X_test_tfidf = tfidf_vectorizer.transform(X_test)\n",
    "\n",
    "# --- Naive Bayes Model ---\n",
    "nb_model = MultinomialNB()\n",
    "nb_model.fit(X_train_tfidf, y_train)\n",
    "\n",
    "# Predictions and evaluation for Naive Bayes\n",
    "y_pred_nb = nb_model.predict(X_test_tfidf)\n",
    "print(\"\\nNaive Bayes Results:\")\n",
    "print(f\"Accuracy: {accuracy_score(y_test, y_pred_nb):.4f}\")\n",
    "print(\"Classification Report (Naive Bayes):\")\n",
    "print(classification_report(y_test, y_pred_nb))\n",
    "print(\"Confusion Matrix (Naive Bayes):\")\n",
    "print(confusion_matrix(y_test, y_pred_nb))\n",
    "\n",
    "# --- Logistic Regression Model ---\n",
    "lr_model = LogisticRegression(max_iter=1000)\n",
    "lr_model.fit(X_train_tfidf, y_train)\n",
    "\n",
    "# Predictions and evaluation for Logistic Regression\n",
    "y_pred_lr = lr_model.predict(X_test_tfidf)\n",
    "print(\"\\nLogistic Regression Results:\")\n",
    "print(f\"Accuracy: {accuracy_score(y_test, y_pred_lr):.4f}\")\n",
    "print(\"Classification Report (Logistic Regression):\")\n",
    "print(classification_report(y_test, y_pred_lr))\n",
    "print(\"Confusion Matrix (Logistic Regression):\")\n",
    "print(confusion_matrix(y_test, y_pred_lr))\n",
    "\n",
    "# --- Support Vector Machine Model ---\n",
    "svm_model = LinearSVC(max_iter=1000)\n",
    "svm_model.fit(X_train_tfidf, y_train)\n",
    "\n",
    "# Predictions and evaluation for SVM\n",
    "y_pred_svm = svm_model.predict(X_test_tfidf)\n",
    "print(\"\\nSVM Results:\")\n",
    "print(f\"Accuracy: {accuracy_score(y_test, y_pred_svm):.4f}\")\n",
    "print(\"Classification Report (SVM):\")\n",
    "print(classification_report(y_test, y_pred_svm))\n",
    "print(\"Confusion Matrix (SVM):\")\n",
    "print(confusion_matrix(y_test, y_pred_svm))\n"
   ]
  },
  {
   "cell_type": "markdown",
   "metadata": {},
   "source": [
    "# Sentiment Analysis Using Naive Bayes and Logistic Regression with BERT Data\n"
   ]
  },
  {
   "cell_type": "code",
   "execution_count": null,
   "metadata": {},
   "outputs": [],
   "source": []
  },
  {
   "cell_type": "markdown",
   "metadata": {},
   "source": [
    "# Sentiment Analysis Using Naive Bayes and Logistic Regression with GPT Data\n"
   ]
  },
  {
   "cell_type": "code",
   "execution_count": null,
   "metadata": {},
   "outputs": [],
   "source": []
  }
 ],
 "metadata": {
  "kernelspec": {
   "display_name": "Python 3",
   "language": "python",
   "name": "python3"
  },
  "language_info": {
   "codemirror_mode": {
    "name": "ipython",
    "version": 3
   },
   "file_extension": ".py",
   "mimetype": "text/x-python",
   "name": "python",
   "nbconvert_exporter": "python",
   "pygments_lexer": "ipython3",
   "version": "3.12.7"
  }
 },
 "nbformat": 4,
 "nbformat_minor": 2
}
