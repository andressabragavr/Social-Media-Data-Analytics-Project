{
 "cells": [
  {
   "cell_type": "markdown",
   "metadata": {},
   "source": [
    "# Sentiment Analysis Using SVM with Vader Data"
   ]
  },
  {
   "cell_type": "code",
   "execution_count": 5,
   "metadata": {},
   "outputs": [
    {
     "name": "stdout",
     "output_type": "stream",
     "text": [
      "\n",
      "Missing values in 'cleaned_title' after handling: 0\n",
      "Missing values in 'Sentiment' after handling: 0\n",
      "\n",
      "SVM Results:\n",
      "Accuracy: 0.7700\n",
      "Classification Report (SVM):\n",
      "              precision    recall  f1-score   support\n",
      "\n",
      "          -1       0.80      0.36      0.50        33\n",
      "           0       0.74      0.92      0.82       108\n",
      "           1       0.83      0.73      0.77        59\n",
      "\n",
      "    accuracy                           0.77       200\n",
      "   macro avg       0.79      0.67      0.70       200\n",
      "weighted avg       0.78      0.77      0.75       200\n",
      "\n",
      "Confusion Matrix (SVM):\n",
      "[[12 19  2]\n",
      " [ 2 99  7]\n",
      " [ 1 15 43]]\n"
     ]
    }
   ],
   "source": [
    "# Import necessary libraries\n",
    "import pandas as pd\n",
    "from sklearn.feature_extraction.text import TfidfVectorizer\n",
    "from sklearn.model_selection import train_test_split\n",
    "from sklearn.svm import LinearSVC\n",
    "from sklearn.metrics import accuracy_score, classification_report, confusion_matrix\n",
    "\n",
    "# Load the CSV file and handle missing values\n",
    "df = pd.read_csv('hogwarts_vader_sentiments.csv')\n",
    "\n",
    "# Check and handle missing values\n",
    "df['cleaned_title'] = df['cleaned_title'].fillna('')\n",
    "\n",
    "# Ensure there are no missing values in 'Sentiment'\n",
    "df = df.dropna(subset=['Sentiment'])\n",
    "X = df['cleaned_title']\n",
    "y = df['Sentiment'].map({\"Positive\": 1, \"Negative\": -1, \"Neutral\": 0})\n",
    "\n",
    "# Check if missing values are handled\n",
    "print(\"\\nMissing values in 'cleaned_title' after handling:\", df['cleaned_title'].isnull().sum())\n",
    "print(\"Missing values in 'Sentiment' after handling:\", y.isnull().sum())\n",
    "\n",
    "# Split the data into training and testing sets\n",
    "X_train, X_test, y_train, y_test = train_test_split(X, y, test_size=0.2, random_state=42)\n",
    "\n",
    "# TF-IDF Vectorization\n",
    "tfidf_vectorizer = TfidfVectorizer(max_features=5000)\n",
    "X_train_tfidf = tfidf_vectorizer.fit_transform(X_train)\n",
    "X_test_tfidf = tfidf_vectorizer.transform(X_test)\n",
    "\n",
    "# --- Support Vector Machine Model ---\n",
    "svm_model = LinearSVC(max_iter=1000)\n",
    "svm_model.fit(X_train_tfidf, y_train)\n",
    "\n",
    "# Predictions and evaluation for SVM\n",
    "y_pred_svm = svm_model.predict(X_test_tfidf)\n",
    "\n",
    "# Print evaluation results\n",
    "print(\"\\nSVM Results:\")\n",
    "print(f\"Accuracy: {accuracy_score(y_test, y_pred_svm):.4f}\")\n",
    "print(\"Classification Report (SVM):\")\n",
    "print(classification_report(y_test, y_pred_svm))\n",
    "print(\"Confusion Matrix (SVM):\")\n",
    "print(confusion_matrix(y_test, y_pred_svm))\n"
   ]
  },
  {
   "cell_type": "markdown",
   "metadata": {},
   "source": [
    "# Sentiment Analysis Using SVM with BERT Data"
   ]
  },
  {
   "cell_type": "code",
   "execution_count": null,
   "metadata": {},
   "outputs": [],
   "source": []
  }
 ],
 "metadata": {
  "kernelspec": {
   "display_name": "Python 3",
   "language": "python",
   "name": "python3"
  },
  "language_info": {
   "codemirror_mode": {
    "name": "ipython",
    "version": 3
   },
   "file_extension": ".py",
   "mimetype": "text/x-python",
   "name": "python",
   "nbconvert_exporter": "python",
   "pygments_lexer": "ipython3",
   "version": "3.12.7"
  }
 },
 "nbformat": 4,
 "nbformat_minor": 2
}
